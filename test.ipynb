{
 "cells": [
  {
   "cell_type": "code",
   "execution_count": 14,
   "metadata": {},
   "outputs": [],
   "source": [
    "import cv2\n",
    "import os\n",
    "\n",
    "def images_to_video(image_folder, output_video, fps):\n",
    "    # 이미지 파일 이름들을 가져옵니다.\n",
    "    images = [img for img in sorted(os.listdir(image_folder)) if img.endswith(\".png\")]\n",
    "    \n",
    "    # 첫 번째 이미지 파일을 읽어들여 프레임의 크기를 결정합니다.\n",
    "    frame = cv2.imread(os.path.join(image_folder, images[0]))\n",
    "    height, width, layers = frame.shape\n",
    "\n",
    "    # VideoWriter 객체를 생성합니다.\n",
    "    fourcc = cv2.VideoWriter_fourcc(*'mp4v')  # 코덱 설정\n",
    "    video = cv2.VideoWriter(output_video, fourcc, fps, (width, height))\n",
    "\n",
    "    for image in images:\n",
    "        img_path = os.path.join(image_folder, image)\n",
    "        frame = cv2.imread(img_path)\n",
    "        video.write(frame)  # 프레임을 비디오에 추가합니다.\n",
    "\n",
    "    # 모든 프레임을 추가한 후 비디오 객체를 해제합니다.\n",
    "    video.release()\n",
    "    cv2.destroyAllWindows()\n",
    "\n",
    "# 사용 예시\n",
    "image_folder = './MD_PEG'  # PNG 파일들이 저장된 폴더 경로\n",
    "output_video = 'output_video.mp4'  # 생성될 MP4 파일 경로\n",
    "fps = 30  # 초당 프레임 수\n",
    "\n",
    "images_to_video(image_folder, output_video, fps)\n"
   ]
  },
  {
   "cell_type": "code",
   "execution_count": null,
   "metadata": {},
   "outputs": [],
   "source": []
  }
 ],
 "metadata": {
  "kernelspec": {
   "display_name": "pngtomovie",
   "language": "python",
   "name": "python3"
  },
  "language_info": {
   "codemirror_mode": {
    "name": "ipython",
    "version": 3
   },
   "file_extension": ".py",
   "mimetype": "text/x-python",
   "name": "python",
   "nbconvert_exporter": "python",
   "pygments_lexer": "ipython3",
   "version": "3.12.4"
  }
 },
 "nbformat": 4,
 "nbformat_minor": 2
}
